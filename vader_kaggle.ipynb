{
 "cells": [
  {
   "cell_type": "code",
   "execution_count": 28,
   "metadata": {},
   "outputs": [
    {
     "name": "stdout",
     "output_type": "stream",
     "text": [
      "<bound method NDFrame.head of                                                    Text  Sentiment\n",
      "0     Kickers on my watchlist XIDE TIT SOQ PNK CPW B...          1\n",
      "1     user: AAP MOVIE. 55% return for the FEA/GEED i...          1\n",
      "2     user I'd be afraid to short AMZN - they are lo...          1\n",
      "3                                     MNTA Over 12.00            1\n",
      "4                                      OI  Over 21.37            1\n",
      "5                                     PGNX  Over 3.04            1\n",
      "6     AAP - user if so then the current downtrend wi...         -1\n",
      "7     Monday's relative weakness. NYX WIN TIE TAP IC...         -1\n",
      "8     GOOG - ower trend line channel test & volume s...          1\n",
      "9                AAP will watch tomorrow for ONG entry.          1\n",
      "10    i'm assuming FCX opens tomorrow above the 34.2...          1\n",
      "11    It really worries me how everyone expects the ...          1\n",
      "12    AAP GAMCO's arry Haverty : Apple Is Extremely ...          1\n",
      "13    user Maykiljil posted that.  I agree that MSFT...          1\n",
      "14    Momentum is coming back to ETFC Broke MA200 re...          1\n",
      "15    HA Hitting 35.65 means resume targeting 42 lev...          1\n",
      "16    user gameplan shot for today but I liked  on t...          1\n",
      "17    with FCX gapping well above ideal entry lookin...          1\n",
      "18    user great list again, particularly like FISV ...          1\n",
      "19                             ATHX upper trend line             1\n",
      "20     NG - nice PNF BY - breakout - need follow thru            1\n",
      "21    Won't believe AAP uptrend is back until it cro...         -1\n",
      "22                                  X swing still on             1\n",
      "23     SWY - 30% of float short and breaking out - ouch          1\n",
      "24                           BIOF wants 4.90's comin!!!          1\n",
      "25    VS inverted head and shoulder play out well. W...          1\n",
      "26                        red, not ready for break out.         -1\n",
      "27    EI close to breaking out now.  My trigger is a...          1\n",
      "28    user BAC For a quick Trade to late..But for in...          1\n",
      "29    CHDN - ong   49.02. Trailing Stop  56.66 from ...          1\n",
      "...                                                 ...        ...\n",
      "5761  Indian Stocks Crash To Worst Day Since 2008 As...         -1\n",
      "5762  State Bank Of India To Buy Rs 7,250-Crore Yes ...          1\n",
      "5763  Rupee Drops By 82 Paise To 74.50 Against Dolla...         -1\n",
      "5764  Nifty Slumps Below 10,000 As Markets Hit 30-Mo...         -1\n",
      "5765  Sensex, Nifty Likely To Open Sharply Lower Ami...         -1\n",
      "5766  Coronavirus: Global Stocks Plunge After Donald...         -1\n",
      "5767  Coronavirus Pandemic: Crude Oil Drops Nearly 4...         -1\n",
      "5768  Sensex, Nifty End Volatile Session On A Flat N...         -1\n",
      "5769  Reliance Industries Surges 6%, Rebounds From W...          1\n",
      "5770  Sensex, Nifty Struggle To Stay Positive Amid V...         -1\n",
      "5771  Sensex jumps over 300 points, Nifty touches 10...          1\n",
      "5772  Sensex Opens 166 Points Lower, Nifty Starts Da...         -1\n",
      "5773  Sensex opens 166 points lower at 35,469, Nifty...         -1\n",
      "5774  Sensex, Nifty Likely To Open Lower As Markets ...         -1\n",
      "5775  Crude Oil Price Up Nearly 4%, Rises For Second...          1\n",
      "5776  Tata Steel Europe To Cut 1,250 Jobs In Turnaro...         -1\n",
      "5777  Foreign Investors Pull Out Rs 12,478 Crore Fro...         -1\n",
      "5778  Foreigners Sell $9-Billion Asian Equities So F...         -1\n",
      "5779  Investors Lose Rs 6.84 Lakh Crore In Worst Day...         -1\n",
      "5780  In the broader market, the 30-share BSE Sensex...          1\n",
      "5781  #CoronavirusPandemic \\n\\nAs bad as #China's ec...         -1\n",
      "5782  #China #CoronavirusPandemic \\n\\nThe economy wa...         -1\n",
      "5783  Reliance Industries raises Rs 8,500 crore usin...          1\n",
      "5784  Goldman Sachs tells investors to go defensive ...         -1\n",
      "5785  #TCS #share price jumps 9% on no #layoffs, #di...          1\n",
      "5786  Industry body CII said #discoms are likely to ...         -1\n",
      "5787  #Gold prices slip below Rs 46,000 as #investor...         -1\n",
      "5788  Workers at Bajaj Auto have agreed to a 10% wag...          1\n",
      "5789  #Sharemarket LIVE: Sensex off day’s high, up 6...          1\n",
      "5790  #Sensex, #Nifty climb off day's highs, still u...          1\n",
      "\n",
      "[5791 rows x 2 columns]>\n"
     ]
    }
   ],
   "source": [
    "import numpy as np\n",
    "import pandas as pd\n",
    "import nltk\n",
    "import os\n",
    "\n",
    "#read in the data\n",
    "\n",
    "data = pd.read_csv('stock_data.csv')\n",
    "print(data.head)"
   ]
  },
  {
   "cell_type": "code",
   "execution_count": 29,
   "metadata": {},
   "outputs": [
    {
     "name": "stderr",
     "output_type": "stream",
     "text": [
      "[nltk_data] Downloading package vader_lexicon to\n",
      "[nltk_data]     C:\\Users\\deepa\\AppData\\Roaming\\nltk_data...\n",
      "[nltk_data]   Package vader_lexicon is already up-to-date!\n"
     ]
    }
   ],
   "source": [
    "nltk.download('vader_lexicon')\n",
    "from nltk.sentiment.vader import SentimentIntensityAnalyzer\n",
    "\n",
    "sentiment_analyzer = SentimentIntensityAnalyzer()\n",
    "#create a list of scores by vader SentimentAnalyzer \n",
    "scores = []\n",
    "\n",
    "for i in range(data.shape[0]):\n",
    "    tweet = data.iloc[i,0]\n",
    "    tweet_score = sentiment_analyzer.polarity_scores(tweet)\n",
    "    if tweet_score['pos'] == 0.0 and tweet_score['neg'] == 0.0:\n",
    "        #print('neutral, but going to mark as pos')\n",
    "        score_add = 1\n",
    "    elif tweet_score['pos'] < tweet_score['neg']:\n",
    "        #print('negative')\n",
    "        score_add = -1\n",
    "    else:\n",
    "        #print('positive')\n",
    "        score_add = 1\n",
    "    scores.append(score_add)\n",
    "    "
   ]
  },
  {
   "cell_type": "code",
   "execution_count": 40,
   "metadata": {},
   "outputs": [
    {
     "data": {
      "text/plain": [
       "(0.40096701778622, 0.40096701778622, 0.40096701778622, None)"
      ]
     },
     "execution_count": 40,
     "metadata": {},
     "output_type": "execute_result"
    }
   ],
   "source": [
    "from sklearn.metrics import precision_recall_fscore_support\n",
    "\n",
    "y_true = data['Sentiment']\n",
    "#(precision, recall, F1, support = None)\n",
    "precision_recall_fscore_support(y_true, scores, average='micro')"
   ]
  }
 ],
 "metadata": {
  "kernelspec": {
   "display_name": "Python 3",
   "language": "python",
   "name": "python3"
  },
  "language_info": {
   "codemirror_mode": {
    "name": "ipython",
    "version": 3
   },
   "file_extension": ".py",
   "mimetype": "text/x-python",
   "name": "python",
   "nbconvert_exporter": "python",
   "pygments_lexer": "ipython3",
   "version": "3.7.1"
  }
 },
 "nbformat": 4,
 "nbformat_minor": 2
}
