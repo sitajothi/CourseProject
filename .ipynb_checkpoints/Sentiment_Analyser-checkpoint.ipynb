{
 "cells": [
  {
   "cell_type": "markdown",
   "metadata": {},
   "source": [
    "## Stock Sentiment Analyzer"
   ]
  },
  {
   "cell_type": "markdown",
   "metadata": {},
   "source": [
    "This is our team's sentiment analyzer. It aims to identify the sentiment behind groups of tweets from twitter in real time. \n",
    "\n",
    "We used this tutorial as a reference while creating our model: resource/tutorial used:\n",
    "- https://www.dataquest.io/blog/tutorial-text-classification-in-python-using-spacy/\n",
    "\n",
    "We also referenced other tutorials to find which one would work best for our usecase.\n",
    "- https://realpython.com/sentiment-analysis-python/?fbclid=IwAR1sO-Zz3j9DQ9NdYiAciQIDTshzpqP_hxzPH-RjomOzlioXZeZjy_XDusE\n"
   ]
  },
  {
   "cell_type": "code",
   "execution_count": 1,
   "metadata": {},
   "outputs": [],
   "source": [
    "import pandas as pd\n",
    "import spacy as sp\n",
    "from spacy.util import minibatch, compounding\n",
    "import os\n",
    "import random\n",
    "import string\n",
    "import json\n",
    "from twython import Twython\n",
    "from spacy.lang.en.stop_words import STOP_WORDS\n",
    "from spacy.lang.en import English\n",
    "from sklearn.feature_extraction.text import CountVectorizer,TfidfVectorizer\n",
    "from sklearn.base import TransformerMixin\n",
    "from sklearn.pipeline import Pipeline\n",
    "from sklearn.model_selection import train_test_split\n",
    "import matplotlib.pyplot as plt\n",
    "import numpy as np\n",
    "pd.set_option('display.max_colwidth', -1)"
   ]
  },
  {
   "cell_type": "code",
   "execution_count": 2,
   "metadata": {},
   "outputs": [
    {
     "data": {
      "text/html": [
       "<div>\n",
       "<style scoped>\n",
       "    .dataframe tbody tr th:only-of-type {\n",
       "        vertical-align: middle;\n",
       "    }\n",
       "\n",
       "    .dataframe tbody tr th {\n",
       "        vertical-align: top;\n",
       "    }\n",
       "\n",
       "    .dataframe thead th {\n",
       "        text-align: right;\n",
       "    }\n",
       "</style>\n",
       "<table border=\"1\" class=\"dataframe\">\n",
       "  <thead>\n",
       "    <tr style=\"text-align: right;\">\n",
       "      <th></th>\n",
       "      <th>Text</th>\n",
       "      <th>Sentiment</th>\n",
       "    </tr>\n",
       "  </thead>\n",
       "  <tbody>\n",
       "    <tr>\n",
       "      <th>0</th>\n",
       "      <td>Kickers on my watchlist XIDE TIT SOQ PNK CPW BPZ AJ  trade method 1 or method 2, see prev posts</td>\n",
       "      <td>1</td>\n",
       "    </tr>\n",
       "    <tr>\n",
       "      <th>1</th>\n",
       "      <td>user: AAP MOVIE. 55% return for the FEA/GEED indicator just 15 trades for the year.  AWESOME.</td>\n",
       "      <td>1</td>\n",
       "    </tr>\n",
       "    <tr>\n",
       "      <th>2</th>\n",
       "      <td>user I'd be afraid to short AMZN - they are looking like a near-monopoly in eBooks and infrastructure-as-a-service</td>\n",
       "      <td>1</td>\n",
       "    </tr>\n",
       "    <tr>\n",
       "      <th>3</th>\n",
       "      <td>MNTA Over 12.00</td>\n",
       "      <td>1</td>\n",
       "    </tr>\n",
       "    <tr>\n",
       "      <th>4</th>\n",
       "      <td>OI  Over 21.37</td>\n",
       "      <td>1</td>\n",
       "    </tr>\n",
       "  </tbody>\n",
       "</table>\n",
       "</div>"
      ],
      "text/plain": [
       "                                                                                                                 Text  \\\n",
       "0  Kickers on my watchlist XIDE TIT SOQ PNK CPW BPZ AJ  trade method 1 or method 2, see prev posts                      \n",
       "1  user: AAP MOVIE. 55% return for the FEA/GEED indicator just 15 trades for the year.  AWESOME.                        \n",
       "2  user I'd be afraid to short AMZN - they are looking like a near-monopoly in eBooks and infrastructure-as-a-service   \n",
       "3  MNTA Over 12.00                                                                                                      \n",
       "4  OI  Over 21.37                                                                                                       \n",
       "\n",
       "   Sentiment  \n",
       "0  1          \n",
       "1  1          \n",
       "2  1          \n",
       "3  1          \n",
       "4  1          "
      ]
     },
     "execution_count": 2,
     "metadata": {},
     "output_type": "execute_result"
    }
   ],
   "source": [
    "#read from stock kaggle dataset\n",
    "stock_df = pd.read_csv('stock_data.csv')\n",
    "stock_df.head()"
   ]
  },
  {
   "cell_type": "code",
   "execution_count": 3,
   "metadata": {},
   "outputs": [],
   "source": [
    "punctuations = string.punctuation\n",
    "\n",
    "\n",
    "nlp = sp.load('en_core_web_sm')\n",
    "stop_words = sp.lang.en.stop_words.STOP_WORDS\n",
    "\n",
    "\n",
    "parser = English()\n",
    "\n",
    "# Creating our tokenizer function\n",
    "def spacy_tokenizer(sentence):\n",
    "    mytokens = parser(sentence)\n",
    "    mytokens = [ word.lemma_.lower().strip() if word.lemma_ != \"-PRON-\" else word.lower_ for word in mytokens ]\n",
    "    #take out punctuation as well as per the library (it doesn't want punctuation)\n",
    "    mytokens = [ word for word in mytokens if word not in stop_words and word not in punctuations ]\n",
    "\n",
    "    # return preprocessed list of tokens\n",
    "    return mytokens\n",
    "\n",
    "class predictors(TransformerMixin):\n",
    "    def transform(self, X, **transform_params):\n",
    "        return [clean_text(text) for text in X]\n",
    "\n",
    "    def fit(self, X, y=None, **fit_params):\n",
    "        return self\n",
    "\n",
    "    def get_params(self, deep=True):\n",
    "        return {}\n",
    "\n",
    "\n",
    "def clean_text(text):\n",
    "    return text.strip().lower()\n",
    "\n",
    "bow_vector = CountVectorizer(tokenizer = spacy_tokenizer, ngram_range=(1,1))\n",
    "tfidf_vector = TfidfVectorizer(tokenizer = spacy_tokenizer)\n",
    "\n",
    "X = stock_df['Text'] \n",
    "ylabels = stock_df['Sentiment'] \n",
    "\n",
    "X_train, X_test, y_train, y_test = train_test_split(X, ylabels, test_size=0.3)\n"
   ]
  },
  {
   "cell_type": "code",
   "execution_count": 4,
   "metadata": {},
   "outputs": [
    {
     "data": {
      "text/plain": [
       "Pipeline(memory=None,\n",
       "         steps=[('cleaner', <__main__.predictors object at 0x1a1a7bf2e8>),\n",
       "                ('vectorizer',\n",
       "                 CountVectorizer(analyzer='word', binary=False,\n",
       "                                 decode_error='strict',\n",
       "                                 dtype=<class 'numpy.int64'>, encoding='utf-8',\n",
       "                                 input='content', lowercase=True, max_df=1.0,\n",
       "                                 max_features=None, min_df=1,\n",
       "                                 ngram_range=(1, 1), preprocessor=None,\n",
       "                                 stop_words=None, strip_accents=None,\n",
       "                                 tok...)\\\\b\\\\w\\\\w+\\\\b',\n",
       "                                 tokenizer=<function spacy_tokenizer at 0x1a1990a378>,\n",
       "                                 vocabulary=None)),\n",
       "                ('classifier',\n",
       "                 LogisticRegression(C=1.0, class_weight=None, dual=False,\n",
       "                                    fit_intercept=True, intercept_scaling=1,\n",
       "                                    l1_ratio=None, max_iter=100,\n",
       "                                    multi_class='auto', n_jobs=None,\n",
       "                                    penalty='l2', random_state=None,\n",
       "                                    solver='lbfgs', tol=0.0001, verbose=0,\n",
       "                                    warm_start=False))],\n",
       "         verbose=False)"
      ]
     },
     "execution_count": 4,
     "metadata": {},
     "output_type": "execute_result"
    }
   ],
   "source": [
    "from sklearn.linear_model import LogisticRegression\n",
    "classifier = LogisticRegression()\n",
    "\n",
    "# Create pipeline using Bag of Words\n",
    "pipe = Pipeline([(\"cleaner\", predictors()),\n",
    "                 ('vectorizer', bow_vector),\n",
    "                 ('classifier', classifier)])\n",
    "\n",
    "# model generation\n",
    "pipe.fit(X_train,y_train)"
   ]
  },
  {
   "cell_type": "code",
   "execution_count": 5,
   "metadata": {},
   "outputs": [
    {
     "name": "stdout",
     "output_type": "stream",
     "text": [
      "Logistic Regression Accuracy: 0.7894131185270425\n",
      "Logistic Regression Precision: 0.7978458989229494\n",
      "Logistic Regression Recall: 0.8875576036866359\n",
      "Logistic Regression F1: 0.8403141361256543\n"
     ]
    }
   ],
   "source": [
    "from sklearn import metrics\n",
    "predicted = pipe.predict(X_test)\n",
    "\n",
    "# Model Accuracy\n",
    "print(\"Logistic Regression Accuracy:\",metrics.accuracy_score(y_test, predicted))\n",
    "print(\"Logistic Regression Precision:\",metrics.precision_score(y_test, predicted))\n",
    "print(\"Logistic Regression Recall:\",metrics.recall_score(y_test, predicted))\n",
    "print('Logistic Regression F1:', metrics.f1_score(y_test, predicted))"
   ]
  },
  {
   "cell_type": "code",
   "execution_count": 6,
   "metadata": {},
   "outputs": [],
   "source": [
    "# Load credentials from json file\n",
    "with open(\"twitter_credentials.json\", \"r\") as file:\n",
    "    creds = json.load(file)\n",
    "\n",
    "# Instantiate Twython object\n",
    "python_tweets = Twython(creds['CONSUMER_KEY'], creds['CONSUMER_SECRET'])"
   ]
  },
  {
   "cell_type": "code",
   "execution_count": 7,
   "metadata": {},
   "outputs": [],
   "source": [
    "# Search tweets\n",
    "def search_twitter(ticker):\n",
    "    # Create our query\n",
    "    query = {'q': ticker,\n",
    "        'result_type': 'recent',\n",
    "        'count': 10,\n",
    "        'lang': 'en',\n",
    "        }\n",
    "    tweets = []\n",
    "    for status in python_tweets.search(**query)['statuses']:\n",
    "        tweets.append(status['text'])\n",
    "    return pd.Series(tweets)"
   ]
  },
  {
   "cell_type": "code",
   "execution_count": 8,
   "metadata": {},
   "outputs": [],
   "source": [
    "def find_predictions(tweets):\n",
    "    predicted = pipe.predict(tweets)\n",
    "    return predicted"
   ]
  },
  {
   "cell_type": "code",
   "execution_count": 9,
   "metadata": {},
   "outputs": [],
   "source": [
    "def display_split(predicted, ticker):\n",
    "    neg = len(predicted[predicted == -1])\n",
    "    pos = len(predicted[predicted == 1])\n",
    "\n",
    "    labels = 'Positive', 'Negative'\n",
    "    sizes = [pos, neg]\n",
    "\n",
    "    fig1, ax1 = plt.subplots()\n",
    "    ax1.pie(sizes, labels=labels, autopct='%1.1f%%', startangle=90)\n",
    "    ax1.axis('equal')  \n",
    "    title = \"Sentiment Split of \" + ticker\n",
    "    ax1.set_title(title)\n",
    "    plt.show()"
   ]
  },
  {
   "cell_type": "code",
   "execution_count": 10,
   "metadata": {},
   "outputs": [
    {
     "name": "stdout",
     "output_type": "stream",
     "text": [
      "0    $TSLA biggest competitive threat is Apple with Volkswagon and GM being remotely competitive https://t.co/AZgT4QIHSd                                           \n",
      "1    RT @JohnnaCrider1: Listening to Don’t Doubt ur vibe by @elonmusk as we enter GA 400 and it’s EMPTY #TeslaParade @nickwhoward  @Tesla @Tesla…                  \n",
      "2    Buying Nasdaq Next Gen 100: The 'Smaller' Nasdaq ETF $QQQJ Also $AAPL $ADBE $TSLA https://t.co/CI81lEnsfR                                                     \n",
      "3    @alifarhat79 Looks like a $TSLA shareholder                                                                                                                   \n",
      "4    @ElectronComm @PhenomenalPoto @lorakolodny @TheOnion @matthewstoller @kenklippenstein care to weigh in? $TSLA just… https://t.co/EFozqCxTg1                   \n",
      "5    RT @GretaMusk: Second richest man in the world \"encouraging\" his employees to \"volunteer\" is totally legal, right @RBReich? #Tesla $TSLA $T…                  \n",
      "6    @BergiusPetteri @forstall_ @FrankPeelen Exactly that is why I sold 70% of my $Appl shares after 600% gains over 7 y… https://t.co/JbyaAIKf3l                  \n",
      "7    RT @ScalpMaster1: Occasionally I get comments from people who say 3BP's don't happen very often or they don't work...If that's the case, th…                  \n",
      "8    RT @GretaMusk: Second richest man in the world \"encouraging\" his employees to \"volunteer\" is totally legal, right @RBReich? #Tesla $TSLA $T…                  \n",
      "9    RT @Tesmanian_com: Tesla ( $TSLA ) Set to Join S&amp;P 500 &amp; 100, Apartment Investment &amp; Mgmt Out of 500 &amp; Occidental Petroleum out 100\\n\\nhttps:…\n",
      "dtype: object\n"
     ]
    },
    {
     "data": {
      "image/png": "[encoded data removed]",
      "text/plain": [
       "<Figure size 432x288 with 1 Axes>"
      ]
     },
     "metadata": {},
     "output_type": "display_data"
    }
   ],
   "source": [
    "# user interaction to find ticker information\n",
    "\n",
    "ticker = '$TSLA' #input $ticker as a string\n",
    "tweets = search_twitter(ticker)\n",
    "print(tweets)\n",
    "predictions = []\n",
    "if (tweets.size == 0):\n",
    "    print(\"There are no tweets about this company!\")\n",
    "else:\n",
    "    predictions = find_predictions(tweets)\n",
    "    display_split(predictions, ticker)"
   ]
  },
  {
   "cell_type": "code",
   "execution_count": 13,
   "metadata": {},
   "outputs": [
    {
     "name": "stdout",
     "output_type": "stream",
     "text": [
      "Test Accuracy: 0.6\n",
      "Test Precision: 0.625\n",
      "Test Recall: 0.8333333333333334\n",
      "Test F1: 0.7142857142857143\n"
     ]
    }
   ],
   "source": [
    "ground_truths = [-1, 1, 1, 1, -1, -1, 1, 1, -1, 1]\n",
    "\n",
    "print(\"Test Accuracy:\",metrics.accuracy_score(ground_truths, predictions))\n",
    "print(\"Test Precision:\",metrics.precision_score(ground_truths, predictions))\n",
    "print(\"Test Recall:\",metrics.recall_score(ground_truths, predictions))\n",
    "print('Test F1:', metrics.f1_score(ground_truths, predictions))"
   ]
  }
 ],
 "metadata": {
  "kernelspec": {
   "display_name": "Python 3",
   "language": "python",
   "name": "python3"
  },
  "language_info": {
   "codemirror_mode": {
    "name": "ipython",
    "version": 3
   },
   "file_extension": ".py",
   "mimetype": "text/x-python",
   "name": "python",
   "nbconvert_exporter": "python",
   "pygments_lexer": "ipython3",
   "version": "3.7.0"
  }
 },
 "nbformat": 4,
 "nbformat_minor": 2
}
