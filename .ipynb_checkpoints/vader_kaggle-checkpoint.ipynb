{
 "cells": [
  {
   "cell_type": "code",
   "execution_count": 2,
   "metadata": {},
   "outputs": [
    {
     "name": "stdout",
     "output_type": "stream",
     "text": [
      "<bound method NDFrame.head of                                                    Text  Sentiment\n",
      "0     Kickers on my watchlist XIDE TIT SOQ PNK CPW B...          1\n",
      "1     user: AAP MOVIE. 55% return for the FEA/GEED i...          1\n",
      "2     user I'd be afraid to short AMZN - they are lo...          1\n",
      "3                                     MNTA Over 12.00            1\n",
      "4                                      OI  Over 21.37            1\n",
      "...                                                 ...        ...\n",
      "5786  Industry body CII said #discoms are likely to ...         -1\n",
      "5787  #Gold prices slip below Rs 46,000 as #investor...         -1\n",
      "5788  Workers at Bajaj Auto have agreed to a 10% wag...          1\n",
      "5789  #Sharemarket LIVE: Sensex off day’s high, up 6...          1\n",
      "5790  #Sensex, #Nifty climb off day's highs, still u...          1\n",
      "\n",
      "[5791 rows x 2 columns]>\n"
     ]
    }
   ],
   "source": [
    "import numpy as np\n",
    "import pandas as pd\n",
    "import nltk\n",
    "import os\n",
    "\n",
    "#read in the data\n",
    "\n",
    "data = pd.read_csv('stock_data.csv')\n",
    "print(data.head)"
   ]
  },
  {
   "cell_type": "code",
   "execution_count": 3,
   "metadata": {},
   "outputs": [
    {
     "name": "stderr",
     "output_type": "stream",
     "text": [
      "[nltk_data] Downloading package vader_lexicon to\n",
      "[nltk_data]     C:\\Users\\deepa\\AppData\\Roaming\\nltk_data...\n",
      "[nltk_data]   Package vader_lexicon is already up-to-date!\n"
     ]
    }
   ],
   "source": [
    "nltk.download('vader_lexicon')\n",
    "from nltk.sentiment.vader import SentimentIntensityAnalyzer\n",
    "\n",
    "sentiment_analyzer = SentimentIntensityAnalyzer()\n",
    "#create a list of scores by vader SentimentAnalyzer \n",
    "scores = []\n",
    "\n",
    "for i in range(data.shape[0]):\n",
    "    tweet = data.iloc[i,0]\n",
    "    tweet_score = sentiment_analyzer.polarity_scores(tweet)\n",
    "    if tweet_score['pos'] == 0.0 and tweet_score['neg'] == 0.0:\n",
    "        #print('neutral')\n",
    "        score_add = 0\n",
    "    elif tweet_score['pos'] < tweet_score['neg']:\n",
    "        #print('negative')\n",
    "        score_add = -1\n",
    "    else:\n",
    "        #print('positive')\n",
    "        score_add = 1\n",
    "    scores.append(score_add)\n",
    "    "
   ]
  },
  {
   "cell_type": "code",
   "execution_count": 9,
   "metadata": {},
   "outputs": [
    {
     "data": {
      "text/plain": [
       "(0.40096701778622, 0.40096701778622, 0.40096701778622, None)"
      ]
     },
     "execution_count": 9,
     "metadata": {},
     "output_type": "execute_result"
    }
   ],
   "source": [
    "from sklearn.metrics import precision_recall_fscore_support\n",
    "\n",
    "y_true = data['Sentiment']\n",
    "#(precision, recall, F1, support = None)\n",
    "print(precision_recall_fscore_support(y_true, scores, average='micro'))"
   ]
  },
  {
   "cell_type": "code",
   "execution_count": null,
   "metadata": {},
   "outputs": [],
   "source": []
  }
 ],
 "metadata": {
  "kernelspec": {
   "display_name": "Python 3",
   "language": "python",
   "name": "python3"
  },
  "language_info": {
   "codemirror_mode": {
    "name": "ipython",
    "version": 3
   },
   "file_extension": ".py",
   "mimetype": "text/x-python",
   "name": "python",
   "nbconvert_exporter": "python",
   "pygments_lexer": "ipython3",
   "version": "3.7.1"
  }
 },
 "nbformat": 4,
 "nbformat_minor": 2
}
